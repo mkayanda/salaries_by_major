{
 "cells": [
  {
   "cell_type": "code",
   "execution_count": 28,
   "id": "1036b454-a999-4518-a468-ecd2135540bc",
   "metadata": {},
   "outputs": [],
   "source": [
    "import pandas as pd"
   ]
  },
  {
   "cell_type": "code",
   "execution_count": 29,
   "id": "8b48ffac-4e27-4b93-bccd-8fbd020f8b86",
   "metadata": {},
   "outputs": [
    {
     "data": {
      "text/html": [
       "<div>\n",
       "<style scoped>\n",
       "    .dataframe tbody tr th:only-of-type {\n",
       "        vertical-align: middle;\n",
       "    }\n",
       "\n",
       "    .dataframe tbody tr th {\n",
       "        vertical-align: top;\n",
       "    }\n",
       "\n",
       "    .dataframe thead th {\n",
       "        text-align: right;\n",
       "    }\n",
       "</style>\n",
       "<table border=\"1\" class=\"dataframe\">\n",
       "  <thead>\n",
       "    <tr style=\"text-align: right;\">\n",
       "      <th></th>\n",
       "      <th>Undergraduate Major</th>\n",
       "      <th>Starting Median Salary</th>\n",
       "      <th>Mid-Career Median Salary</th>\n",
       "      <th>Mid-Career 10th Percentile Salary</th>\n",
       "      <th>Mid-Career 90th Percentile Salary</th>\n",
       "      <th>Group</th>\n",
       "    </tr>\n",
       "  </thead>\n",
       "  <tbody>\n",
       "    <tr>\n",
       "      <th>0</th>\n",
       "      <td>Accounting</td>\n",
       "      <td>46000.0</td>\n",
       "      <td>77100.0</td>\n",
       "      <td>42200.0</td>\n",
       "      <td>152000.0</td>\n",
       "      <td>Business</td>\n",
       "    </tr>\n",
       "    <tr>\n",
       "      <th>1</th>\n",
       "      <td>Aerospace Engineering</td>\n",
       "      <td>57700.0</td>\n",
       "      <td>101000.0</td>\n",
       "      <td>64300.0</td>\n",
       "      <td>161000.0</td>\n",
       "      <td>STEM</td>\n",
       "    </tr>\n",
       "    <tr>\n",
       "      <th>2</th>\n",
       "      <td>Agriculture</td>\n",
       "      <td>42600.0</td>\n",
       "      <td>71900.0</td>\n",
       "      <td>36300.0</td>\n",
       "      <td>150000.0</td>\n",
       "      <td>Business</td>\n",
       "    </tr>\n",
       "    <tr>\n",
       "      <th>3</th>\n",
       "      <td>Anthropology</td>\n",
       "      <td>36800.0</td>\n",
       "      <td>61500.0</td>\n",
       "      <td>33800.0</td>\n",
       "      <td>138000.0</td>\n",
       "      <td>HASS</td>\n",
       "    </tr>\n",
       "    <tr>\n",
       "      <th>4</th>\n",
       "      <td>Architecture</td>\n",
       "      <td>41600.0</td>\n",
       "      <td>76800.0</td>\n",
       "      <td>50600.0</td>\n",
       "      <td>136000.0</td>\n",
       "      <td>Business</td>\n",
       "    </tr>\n",
       "  </tbody>\n",
       "</table>\n",
       "</div>"
      ],
      "text/plain": [
       "     Undergraduate Major  Starting Median Salary  Mid-Career Median Salary  \\\n",
       "0             Accounting                 46000.0                   77100.0   \n",
       "1  Aerospace Engineering                 57700.0                  101000.0   \n",
       "2            Agriculture                 42600.0                   71900.0   \n",
       "3           Anthropology                 36800.0                   61500.0   \n",
       "4           Architecture                 41600.0                   76800.0   \n",
       "\n",
       "   Mid-Career 10th Percentile Salary  Mid-Career 90th Percentile Salary  \\\n",
       "0                            42200.0                           152000.0   \n",
       "1                            64300.0                           161000.0   \n",
       "2                            36300.0                           150000.0   \n",
       "3                            33800.0                           138000.0   \n",
       "4                            50600.0                           136000.0   \n",
       "\n",
       "      Group  \n",
       "0  Business  \n",
       "1      STEM  \n",
       "2  Business  \n",
       "3      HASS  \n",
       "4  Business  "
      ]
     },
     "execution_count": 29,
     "metadata": {},
     "output_type": "execute_result"
    }
   ],
   "source": [
    "sal = pd.read_csv(\"salaries_by_college_major.csv\")\n",
    "sal.head()"
   ]
  },
  {
   "cell_type": "code",
   "execution_count": 30,
   "id": "87f84e32-f9dc-4a25-be3b-1eaebb12c823",
   "metadata": {},
   "outputs": [
    {
     "name": "stdout",
     "output_type": "stream",
     "text": [
      "<class 'pandas.core.frame.DataFrame'>\n",
      "RangeIndex: 51 entries, 0 to 50\n",
      "Data columns (total 6 columns):\n",
      " #   Column                             Non-Null Count  Dtype  \n",
      "---  ------                             --------------  -----  \n",
      " 0   Undergraduate Major                51 non-null     object \n",
      " 1   Starting Median Salary             50 non-null     float64\n",
      " 2   Mid-Career Median Salary           50 non-null     float64\n",
      " 3   Mid-Career 10th Percentile Salary  50 non-null     float64\n",
      " 4   Mid-Career 90th Percentile Salary  50 non-null     float64\n",
      " 5   Group                              50 non-null     object \n",
      "dtypes: float64(4), object(2)\n",
      "memory usage: 2.5+ KB\n"
     ]
    }
   ],
   "source": [
    "sal.info()"
   ]
  },
  {
   "cell_type": "code",
   "execution_count": 31,
   "id": "872bb12f-6e78-4839-9251-86c1569ab5dc",
   "metadata": {},
   "outputs": [
    {
     "data": {
      "text/html": [
       "<div>\n",
       "<style scoped>\n",
       "    .dataframe tbody tr th:only-of-type {\n",
       "        vertical-align: middle;\n",
       "    }\n",
       "\n",
       "    .dataframe tbody tr th {\n",
       "        vertical-align: top;\n",
       "    }\n",
       "\n",
       "    .dataframe thead th {\n",
       "        text-align: right;\n",
       "    }\n",
       "</style>\n",
       "<table border=\"1\" class=\"dataframe\">\n",
       "  <thead>\n",
       "    <tr style=\"text-align: right;\">\n",
       "      <th></th>\n",
       "      <th>Undergraduate Major</th>\n",
       "      <th>Starting Median Salary</th>\n",
       "      <th>Mid-Career Median Salary</th>\n",
       "      <th>Mid-Career 10th Percentile Salary</th>\n",
       "      <th>Mid-Career 90th Percentile Salary</th>\n",
       "      <th>Group</th>\n",
       "    </tr>\n",
       "  </thead>\n",
       "  <tbody>\n",
       "    <tr>\n",
       "      <th>46</th>\n",
       "      <td>Psychology</td>\n",
       "      <td>35900.0</td>\n",
       "      <td>60400.0</td>\n",
       "      <td>31600.0</td>\n",
       "      <td>127000.0</td>\n",
       "      <td>HASS</td>\n",
       "    </tr>\n",
       "    <tr>\n",
       "      <th>47</th>\n",
       "      <td>Religion</td>\n",
       "      <td>34100.0</td>\n",
       "      <td>52000.0</td>\n",
       "      <td>29700.0</td>\n",
       "      <td>96400.0</td>\n",
       "      <td>HASS</td>\n",
       "    </tr>\n",
       "    <tr>\n",
       "      <th>48</th>\n",
       "      <td>Sociology</td>\n",
       "      <td>36500.0</td>\n",
       "      <td>58200.0</td>\n",
       "      <td>30700.0</td>\n",
       "      <td>118000.0</td>\n",
       "      <td>HASS</td>\n",
       "    </tr>\n",
       "    <tr>\n",
       "      <th>49</th>\n",
       "      <td>Spanish</td>\n",
       "      <td>34000.0</td>\n",
       "      <td>53100.0</td>\n",
       "      <td>31000.0</td>\n",
       "      <td>96400.0</td>\n",
       "      <td>HASS</td>\n",
       "    </tr>\n",
       "    <tr>\n",
       "      <th>50</th>\n",
       "      <td>Source: PayScale Inc.</td>\n",
       "      <td>NaN</td>\n",
       "      <td>NaN</td>\n",
       "      <td>NaN</td>\n",
       "      <td>NaN</td>\n",
       "      <td>NaN</td>\n",
       "    </tr>\n",
       "  </tbody>\n",
       "</table>\n",
       "</div>"
      ],
      "text/plain": [
       "      Undergraduate Major  Starting Median Salary  Mid-Career Median Salary  \\\n",
       "46             Psychology                 35900.0                   60400.0   \n",
       "47               Religion                 34100.0                   52000.0   \n",
       "48              Sociology                 36500.0                   58200.0   \n",
       "49                Spanish                 34000.0                   53100.0   \n",
       "50  Source: PayScale Inc.                     NaN                       NaN   \n",
       "\n",
       "    Mid-Career 10th Percentile Salary  Mid-Career 90th Percentile Salary Group  \n",
       "46                            31600.0                           127000.0  HASS  \n",
       "47                            29700.0                            96400.0  HASS  \n",
       "48                            30700.0                           118000.0  HASS  \n",
       "49                            31000.0                            96400.0  HASS  \n",
       "50                                NaN                                NaN   NaN  "
      ]
     },
     "execution_count": 31,
     "metadata": {},
     "output_type": "execute_result"
    }
   ],
   "source": [
    "sal.tail()"
   ]
  },
  {
   "cell_type": "code",
   "execution_count": 32,
   "id": "f793a0c1-5a75-4d27-9962-b006d443dd17",
   "metadata": {},
   "outputs": [],
   "source": [
    "#drop missing values\n",
    "sal.dropna(inplace=True)"
   ]
  },
  {
   "cell_type": "code",
   "execution_count": 33,
   "id": "e5a4bdf7-0e48-4776-b08d-bb2ec05a6f75",
   "metadata": {},
   "outputs": [
    {
     "name": "stdout",
     "output_type": "stream",
     "text": [
      "<class 'pandas.core.frame.DataFrame'>\n",
      "Int64Index: 50 entries, 0 to 49\n",
      "Data columns (total 6 columns):\n",
      " #   Column                             Non-Null Count  Dtype  \n",
      "---  ------                             --------------  -----  \n",
      " 0   Undergraduate Major                50 non-null     object \n",
      " 1   Starting Median Salary             50 non-null     float64\n",
      " 2   Mid-Career Median Salary           50 non-null     float64\n",
      " 3   Mid-Career 10th Percentile Salary  50 non-null     float64\n",
      " 4   Mid-Career 90th Percentile Salary  50 non-null     float64\n",
      " 5   Group                              50 non-null     object \n",
      "dtypes: float64(4), object(2)\n",
      "memory usage: 2.7+ KB\n"
     ]
    }
   ],
   "source": [
    "sal.info()"
   ]
  },
  {
   "cell_type": "code",
   "execution_count": 34,
   "id": "0ed5b24f-e453-4d69-83d8-a65e1b3163e4",
   "metadata": {},
   "outputs": [
    {
     "data": {
      "text/plain": [
       "Index(['Undergraduate Major', 'Starting Median Salary',\n",
       "       'Mid-Career Median Salary', 'Mid-Career 10th Percentile Salary',\n",
       "       'Mid-Career 90th Percentile Salary', 'Group'],\n",
       "      dtype='object')"
      ]
     },
     "execution_count": 34,
     "metadata": {},
     "output_type": "execute_result"
    }
   ],
   "source": [
    "#check the columns\n",
    "sal.columns"
   ]
  },
  {
   "cell_type": "code",
   "execution_count": 35,
   "id": "0dbef0d8-5851-4940-943b-111a032e2c83",
   "metadata": {},
   "outputs": [
    {
     "data": {
      "text/plain": [
       "(50, 6)"
      ]
     },
     "execution_count": 35,
     "metadata": {},
     "output_type": "execute_result"
    }
   ],
   "source": [
    "#dimension of the dataframe\n",
    "sal.shape"
   ]
  },
  {
   "cell_type": "code",
   "execution_count": 36,
   "id": "983718d1-f3e4-4009-b9a3-07365601700c",
   "metadata": {},
   "outputs": [
    {
     "data": {
      "text/html": [
       "<div>\n",
       "<style scoped>\n",
       "    .dataframe tbody tr th:only-of-type {\n",
       "        vertical-align: middle;\n",
       "    }\n",
       "\n",
       "    .dataframe tbody tr th {\n",
       "        vertical-align: top;\n",
       "    }\n",
       "\n",
       "    .dataframe thead th {\n",
       "        text-align: right;\n",
       "    }\n",
       "</style>\n",
       "<table border=\"1\" class=\"dataframe\">\n",
       "  <thead>\n",
       "    <tr style=\"text-align: right;\">\n",
       "      <th></th>\n",
       "      <th>count</th>\n",
       "      <th>mean</th>\n",
       "      <th>std</th>\n",
       "      <th>min</th>\n",
       "      <th>25%</th>\n",
       "      <th>50%</th>\n",
       "      <th>75%</th>\n",
       "      <th>max</th>\n",
       "    </tr>\n",
       "  </thead>\n",
       "  <tbody>\n",
       "    <tr>\n",
       "      <th>Starting Median Salary</th>\n",
       "      <td>50.0</td>\n",
       "      <td>44310.0</td>\n",
       "      <td>9360.866217</td>\n",
       "      <td>34000.0</td>\n",
       "      <td>37050.0</td>\n",
       "      <td>40850.0</td>\n",
       "      <td>49875.0</td>\n",
       "      <td>74300.0</td>\n",
       "    </tr>\n",
       "    <tr>\n",
       "      <th>Mid-Career Median Salary</th>\n",
       "      <td>50.0</td>\n",
       "      <td>74786.0</td>\n",
       "      <td>16088.403860</td>\n",
       "      <td>52000.0</td>\n",
       "      <td>60825.0</td>\n",
       "      <td>72000.0</td>\n",
       "      <td>88750.0</td>\n",
       "      <td>107000.0</td>\n",
       "    </tr>\n",
       "    <tr>\n",
       "      <th>Mid-Career 10th Percentile Salary</th>\n",
       "      <td>50.0</td>\n",
       "      <td>43408.0</td>\n",
       "      <td>12000.779567</td>\n",
       "      <td>26700.0</td>\n",
       "      <td>34825.0</td>\n",
       "      <td>39400.0</td>\n",
       "      <td>49850.0</td>\n",
       "      <td>71900.0</td>\n",
       "    </tr>\n",
       "    <tr>\n",
       "      <th>Mid-Career 90th Percentile Salary</th>\n",
       "      <td>50.0</td>\n",
       "      <td>142766.0</td>\n",
       "      <td>27851.249267</td>\n",
       "      <td>96400.0</td>\n",
       "      <td>124250.0</td>\n",
       "      <td>145500.0</td>\n",
       "      <td>161750.0</td>\n",
       "      <td>210000.0</td>\n",
       "    </tr>\n",
       "  </tbody>\n",
       "</table>\n",
       "</div>"
      ],
      "text/plain": [
       "                                   count      mean           std      min  \\\n",
       "Starting Median Salary              50.0   44310.0   9360.866217  34000.0   \n",
       "Mid-Career Median Salary            50.0   74786.0  16088.403860  52000.0   \n",
       "Mid-Career 10th Percentile Salary   50.0   43408.0  12000.779567  26700.0   \n",
       "Mid-Career 90th Percentile Salary   50.0  142766.0  27851.249267  96400.0   \n",
       "\n",
       "                                        25%       50%       75%       max  \n",
       "Starting Median Salary              37050.0   40850.0   49875.0   74300.0  \n",
       "Mid-Career Median Salary            60825.0   72000.0   88750.0  107000.0  \n",
       "Mid-Career 10th Percentile Salary   34825.0   39400.0   49850.0   71900.0  \n",
       "Mid-Career 90th Percentile Salary  124250.0  145500.0  161750.0  210000.0  "
      ]
     },
     "execution_count": 36,
     "metadata": {},
     "output_type": "execute_result"
    }
   ],
   "source": [
    "#summary statistics\n",
    "\n",
    "sal.describe().T"
   ]
  },
  {
   "cell_type": "markdown",
   "id": "9717a9ac-12cb-476c-9008-e155593abb9b",
   "metadata": {},
   "source": [
    "### What college major has the highest starting median salary and how much do graduates with this major earn?\n"
   ]
  },
  {
   "cell_type": "code",
   "execution_count": 42,
   "id": "c392b75c-e6f9-4598-8dce-734481d915fc",
   "metadata": {},
   "outputs": [
    {
     "data": {
      "text/plain": [
       "43"
      ]
     },
     "execution_count": 42,
     "metadata": {},
     "output_type": "execute_result"
    }
   ],
   "source": [
    "#check the max row\n",
    "\n",
    "sal['Starting Median Salary'].idxmax()"
   ]
  },
  {
   "cell_type": "code",
   "execution_count": 54,
   "id": "eb32b568-e9e8-494d-8c38-d36d5570733a",
   "metadata": {},
   "outputs": [
    {
     "data": {
      "text/plain": [
       "'Physician Assistant'"
      ]
     },
     "execution_count": 54,
     "metadata": {},
     "output_type": "execute_result"
    }
   ],
   "source": [
    "sal.iat[43,0]"
   ]
  },
  {
   "cell_type": "code",
   "execution_count": 38,
   "id": "9205b7ae-fc48-482e-b857-42a32eac8e58",
   "metadata": {},
   "outputs": [
    {
     "data": {
      "text/html": [
       "<div>\n",
       "<style scoped>\n",
       "    .dataframe tbody tr th:only-of-type {\n",
       "        vertical-align: middle;\n",
       "    }\n",
       "\n",
       "    .dataframe tbody tr th {\n",
       "        vertical-align: top;\n",
       "    }\n",
       "\n",
       "    .dataframe thead th {\n",
       "        text-align: right;\n",
       "    }\n",
       "</style>\n",
       "<table border=\"1\" class=\"dataframe\">\n",
       "  <thead>\n",
       "    <tr style=\"text-align: right;\">\n",
       "      <th></th>\n",
       "      <th>Undergraduate Major</th>\n",
       "      <th>Starting Median Salary</th>\n",
       "      <th>Mid-Career Median Salary</th>\n",
       "      <th>Mid-Career 10th Percentile Salary</th>\n",
       "      <th>Mid-Career 90th Percentile Salary</th>\n",
       "      <th>Group</th>\n",
       "    </tr>\n",
       "  </thead>\n",
       "  <tbody>\n",
       "    <tr>\n",
       "      <th>43</th>\n",
       "      <td>Physician Assistant</td>\n",
       "      <td>74300.0</td>\n",
       "      <td>91700.0</td>\n",
       "      <td>66400.0</td>\n",
       "      <td>124000.0</td>\n",
       "      <td>STEM</td>\n",
       "    </tr>\n",
       "  </tbody>\n",
       "</table>\n",
       "</div>"
      ],
      "text/plain": [
       "    Undergraduate Major  Starting Median Salary  Mid-Career Median Salary  \\\n",
       "43  Physician Assistant                 74300.0                   91700.0   \n",
       "\n",
       "    Mid-Career 10th Percentile Salary  Mid-Career 90th Percentile Salary Group  \n",
       "43                            66400.0                           124000.0  STEM  "
      ]
     },
     "execution_count": 38,
     "metadata": {},
     "output_type": "execute_result"
    }
   ],
   "source": [
    "#showing that row\n",
    "sal.iloc[lambda x: x.index == 43]"
   ]
  },
  {
   "cell_type": "markdown",
   "id": "9496fd92-f6f6-435a-ba4c-57690a7248ab",
   "metadata": {},
   "source": [
    "### What college major has the highest starting mid-career salary and how much do graduates with this major earn? (10+ years of experience)"
   ]
  },
  {
   "cell_type": "code",
   "execution_count": 44,
   "id": "b8e65bc4-9473-4d78-abd2-3c0e9a823d7d",
   "metadata": {},
   "outputs": [
    {
     "data": {
      "text/plain": [
       "8"
      ]
     },
     "execution_count": 44,
     "metadata": {},
     "output_type": "execute_result"
    }
   ],
   "source": [
    "sal['Mid-Career Median Salary'].idxmax()"
   ]
  },
  {
   "cell_type": "code",
   "execution_count": 53,
   "id": "820baa0c-d023-4fa3-8eb3-6c6fcf70403f",
   "metadata": {},
   "outputs": [
    {
     "data": {
      "text/plain": [
       "'Chemical Engineering'"
      ]
     },
     "execution_count": 53,
     "metadata": {},
     "output_type": "execute_result"
    }
   ],
   "source": [
    "sal.iat[8,0]"
   ]
  },
  {
   "cell_type": "code",
   "execution_count": 45,
   "id": "88ade0dd-1545-4d8b-95af-043ad9a6a3fc",
   "metadata": {},
   "outputs": [
    {
     "data": {
      "text/html": [
       "<div>\n",
       "<style scoped>\n",
       "    .dataframe tbody tr th:only-of-type {\n",
       "        vertical-align: middle;\n",
       "    }\n",
       "\n",
       "    .dataframe tbody tr th {\n",
       "        vertical-align: top;\n",
       "    }\n",
       "\n",
       "    .dataframe thead th {\n",
       "        text-align: right;\n",
       "    }\n",
       "</style>\n",
       "<table border=\"1\" class=\"dataframe\">\n",
       "  <thead>\n",
       "    <tr style=\"text-align: right;\">\n",
       "      <th></th>\n",
       "      <th>Undergraduate Major</th>\n",
       "      <th>Starting Median Salary</th>\n",
       "      <th>Mid-Career Median Salary</th>\n",
       "      <th>Mid-Career 10th Percentile Salary</th>\n",
       "      <th>Mid-Career 90th Percentile Salary</th>\n",
       "      <th>Group</th>\n",
       "    </tr>\n",
       "  </thead>\n",
       "  <tbody>\n",
       "    <tr>\n",
       "      <th>8</th>\n",
       "      <td>Chemical Engineering</td>\n",
       "      <td>63200.0</td>\n",
       "      <td>107000.0</td>\n",
       "      <td>71900.0</td>\n",
       "      <td>194000.0</td>\n",
       "      <td>STEM</td>\n",
       "    </tr>\n",
       "  </tbody>\n",
       "</table>\n",
       "</div>"
      ],
      "text/plain": [
       "    Undergraduate Major  Starting Median Salary  Mid-Career Median Salary  \\\n",
       "8  Chemical Engineering                 63200.0                  107000.0   \n",
       "\n",
       "   Mid-Career 10th Percentile Salary  Mid-Career 90th Percentile Salary Group  \n",
       "8                            71900.0                           194000.0  STEM  "
      ]
     },
     "execution_count": 45,
     "metadata": {},
     "output_type": "execute_result"
    }
   ],
   "source": [
    "#showing that row\n",
    "sal.iloc[lambda x: x.index == 8]"
   ]
  },
  {
   "cell_type": "markdown",
   "id": "20a52e0f-4eca-46d1-8fa3-f5d4ddd2dbaa",
   "metadata": {},
   "source": [
    "### Which college major has the lowest starting salary and how much do graduates earn after university?"
   ]
  },
  {
   "cell_type": "code",
   "execution_count": 46,
   "id": "35b9c2b3-4dec-4095-ab6c-690e9e378d9c",
   "metadata": {},
   "outputs": [
    {
     "data": {
      "text/plain": [
       "49"
      ]
     },
     "execution_count": 46,
     "metadata": {},
     "output_type": "execute_result"
    }
   ],
   "source": [
    "#check the max row\n",
    "\n",
    "sal['Starting Median Salary'].idxmin()"
   ]
  },
  {
   "cell_type": "code",
   "execution_count": 52,
   "id": "5d6ef010-49f2-43ac-91dd-35a288db033f",
   "metadata": {},
   "outputs": [
    {
     "data": {
      "text/plain": [
       "'Spanish'"
      ]
     },
     "execution_count": 52,
     "metadata": {},
     "output_type": "execute_result"
    }
   ],
   "source": [
    "sal.iat[49,0]"
   ]
  },
  {
   "cell_type": "code",
   "execution_count": 47,
   "id": "5d3e8b27-e9fa-462c-87b5-d62e92ccaeff",
   "metadata": {},
   "outputs": [
    {
     "data": {
      "text/html": [
       "<div>\n",
       "<style scoped>\n",
       "    .dataframe tbody tr th:only-of-type {\n",
       "        vertical-align: middle;\n",
       "    }\n",
       "\n",
       "    .dataframe tbody tr th {\n",
       "        vertical-align: top;\n",
       "    }\n",
       "\n",
       "    .dataframe thead th {\n",
       "        text-align: right;\n",
       "    }\n",
       "</style>\n",
       "<table border=\"1\" class=\"dataframe\">\n",
       "  <thead>\n",
       "    <tr style=\"text-align: right;\">\n",
       "      <th></th>\n",
       "      <th>Undergraduate Major</th>\n",
       "      <th>Starting Median Salary</th>\n",
       "      <th>Mid-Career Median Salary</th>\n",
       "      <th>Mid-Career 10th Percentile Salary</th>\n",
       "      <th>Mid-Career 90th Percentile Salary</th>\n",
       "      <th>Group</th>\n",
       "    </tr>\n",
       "  </thead>\n",
       "  <tbody>\n",
       "    <tr>\n",
       "      <th>49</th>\n",
       "      <td>Spanish</td>\n",
       "      <td>34000.0</td>\n",
       "      <td>53100.0</td>\n",
       "      <td>31000.0</td>\n",
       "      <td>96400.0</td>\n",
       "      <td>HASS</td>\n",
       "    </tr>\n",
       "  </tbody>\n",
       "</table>\n",
       "</div>"
      ],
      "text/plain": [
       "   Undergraduate Major  Starting Median Salary  Mid-Career Median Salary  \\\n",
       "49             Spanish                 34000.0                   53100.0   \n",
       "\n",
       "    Mid-Career 10th Percentile Salary  Mid-Career 90th Percentile Salary Group  \n",
       "49                            31000.0                            96400.0  HASS  "
      ]
     },
     "execution_count": 47,
     "metadata": {},
     "output_type": "execute_result"
    }
   ],
   "source": [
    "#showing that row\n",
    "sal.iloc[lambda x: x.index == 49]"
   ]
  },
  {
   "cell_type": "markdown",
   "id": "2c5f00ab-548b-4cab-b88f-a9da77d4d474",
   "metadata": {},
   "source": [
    "### Which college major has the lowest mid-career salary and how much can people expect to earn with this degree? "
   ]
  },
  {
   "cell_type": "code",
   "execution_count": 48,
   "id": "03004184-4c4a-4979-b7fe-8c9328adb58c",
   "metadata": {},
   "outputs": [
    {
     "data": {
      "text/plain": [
       "18"
      ]
     },
     "execution_count": 48,
     "metadata": {},
     "output_type": "execute_result"
    }
   ],
   "source": [
    "#check the max row\n",
    "\n",
    "sal['Mid-Career Median Salary'].idxmin()"
   ]
  },
  {
   "cell_type": "code",
   "execution_count": 51,
   "id": "5c29ecb3-b80e-41ce-aaf9-fa8eee59d0ad",
   "metadata": {},
   "outputs": [
    {
     "data": {
      "text/plain": [
       "'Education'"
      ]
     },
     "execution_count": 51,
     "metadata": {},
     "output_type": "execute_result"
    }
   ],
   "source": [
    "sal.iat[18,0]"
   ]
  },
  {
   "cell_type": "code",
   "execution_count": 49,
   "id": "abaff8a5-8353-4848-baab-e468aefb5f92",
   "metadata": {},
   "outputs": [
    {
     "data": {
      "text/html": [
       "<div>\n",
       "<style scoped>\n",
       "    .dataframe tbody tr th:only-of-type {\n",
       "        vertical-align: middle;\n",
       "    }\n",
       "\n",
       "    .dataframe tbody tr th {\n",
       "        vertical-align: top;\n",
       "    }\n",
       "\n",
       "    .dataframe thead th {\n",
       "        text-align: right;\n",
       "    }\n",
       "</style>\n",
       "<table border=\"1\" class=\"dataframe\">\n",
       "  <thead>\n",
       "    <tr style=\"text-align: right;\">\n",
       "      <th></th>\n",
       "      <th>Undergraduate Major</th>\n",
       "      <th>Starting Median Salary</th>\n",
       "      <th>Mid-Career Median Salary</th>\n",
       "      <th>Mid-Career 10th Percentile Salary</th>\n",
       "      <th>Mid-Career 90th Percentile Salary</th>\n",
       "      <th>Group</th>\n",
       "    </tr>\n",
       "  </thead>\n",
       "  <tbody>\n",
       "    <tr>\n",
       "      <th>18</th>\n",
       "      <td>Education</td>\n",
       "      <td>34900.0</td>\n",
       "      <td>52000.0</td>\n",
       "      <td>29300.0</td>\n",
       "      <td>102000.0</td>\n",
       "      <td>HASS</td>\n",
       "    </tr>\n",
       "  </tbody>\n",
       "</table>\n",
       "</div>"
      ],
      "text/plain": [
       "   Undergraduate Major  Starting Median Salary  Mid-Career Median Salary  \\\n",
       "18           Education                 34900.0                   52000.0   \n",
       "\n",
       "    Mid-Career 10th Percentile Salary  Mid-Career 90th Percentile Salary Group  \n",
       "18                            29300.0                           102000.0  HASS  "
      ]
     },
     "execution_count": 49,
     "metadata": {},
     "output_type": "execute_result"
    }
   ],
   "source": [
    "#showing that row\n",
    "sal.iloc[lambda x: x.index == 18]"
   ]
  },
  {
   "cell_type": "markdown",
   "id": "7cf46f84-cc11-41f8-88f2-e471d93baa08",
   "metadata": {},
   "source": [
    "### Top 5 Majors with the highest spread from starting to mid-career"
   ]
  },
  {
   "cell_type": "code",
   "execution_count": 69,
   "id": "137c26d7-e0a3-44c4-8587-1224ed79e5fc",
   "metadata": {},
   "outputs": [
    {
     "data": {
      "text/html": [
       "<div>\n",
       "<style scoped>\n",
       "    .dataframe tbody tr th:only-of-type {\n",
       "        vertical-align: middle;\n",
       "    }\n",
       "\n",
       "    .dataframe tbody tr th {\n",
       "        vertical-align: top;\n",
       "    }\n",
       "\n",
       "    .dataframe thead th {\n",
       "        text-align: right;\n",
       "    }\n",
       "</style>\n",
       "<table border=\"1\" class=\"dataframe\">\n",
       "  <thead>\n",
       "    <tr style=\"text-align: right;\">\n",
       "      <th></th>\n",
       "      <th>Undergraduate Major</th>\n",
       "      <th>Starting Median Salary</th>\n",
       "      <th>Mid-Career Median Salary</th>\n",
       "      <th>Mid-Career 10th Percentile Salary</th>\n",
       "      <th>Mid-Career 90th Percentile Salary</th>\n",
       "      <th>Group</th>\n",
       "      <th>spread_col</th>\n",
       "    </tr>\n",
       "  </thead>\n",
       "  <tbody>\n",
       "    <tr>\n",
       "      <th>0</th>\n",
       "      <td>Accounting</td>\n",
       "      <td>46000.0</td>\n",
       "      <td>77100.0</td>\n",
       "      <td>42200.0</td>\n",
       "      <td>152000.0</td>\n",
       "      <td>Business</td>\n",
       "      <td>109800.0</td>\n",
       "    </tr>\n",
       "    <tr>\n",
       "      <th>1</th>\n",
       "      <td>Aerospace Engineering</td>\n",
       "      <td>57700.0</td>\n",
       "      <td>101000.0</td>\n",
       "      <td>64300.0</td>\n",
       "      <td>161000.0</td>\n",
       "      <td>STEM</td>\n",
       "      <td>96700.0</td>\n",
       "    </tr>\n",
       "  </tbody>\n",
       "</table>\n",
       "</div>"
      ],
      "text/plain": [
       "     Undergraduate Major  Starting Median Salary  Mid-Career Median Salary  \\\n",
       "0             Accounting                 46000.0                   77100.0   \n",
       "1  Aerospace Engineering                 57700.0                  101000.0   \n",
       "\n",
       "   Mid-Career 10th Percentile Salary  Mid-Career 90th Percentile Salary  \\\n",
       "0                            42200.0                           152000.0   \n",
       "1                            64300.0                           161000.0   \n",
       "\n",
       "      Group  spread_col  \n",
       "0  Business    109800.0  \n",
       "1      STEM     96700.0  "
      ]
     },
     "execution_count": 69,
     "metadata": {},
     "output_type": "execute_result"
    }
   ],
   "source": [
    "sal[\"spread_col\"] = sal['Mid-Career 90th Percentile Salary'].subtract(sal['Mid-Career 10th Percentile Salary'])\n",
    "sal.head(2)"
   ]
  },
  {
   "cell_type": "code",
   "execution_count": 72,
   "id": "4a5bda51-37e0-4633-a002-a9e75d629c4d",
   "metadata": {},
   "outputs": [
    {
     "data": {
      "text/html": [
       "<div>\n",
       "<style scoped>\n",
       "    .dataframe tbody tr th:only-of-type {\n",
       "        vertical-align: middle;\n",
       "    }\n",
       "\n",
       "    .dataframe tbody tr th {\n",
       "        vertical-align: top;\n",
       "    }\n",
       "\n",
       "    .dataframe thead th {\n",
       "        text-align: right;\n",
       "    }\n",
       "</style>\n",
       "<table border=\"1\" class=\"dataframe\">\n",
       "  <thead>\n",
       "    <tr style=\"text-align: right;\">\n",
       "      <th></th>\n",
       "      <th>Undergraduate Major</th>\n",
       "      <th>Starting Median Salary</th>\n",
       "      <th>Mid-Career Median Salary</th>\n",
       "      <th>Mid-Career 10th Percentile Salary</th>\n",
       "      <th>Mid-Career 90th Percentile Salary</th>\n",
       "      <th>Group</th>\n",
       "      <th>spread_col</th>\n",
       "    </tr>\n",
       "  </thead>\n",
       "  <tbody>\n",
       "    <tr>\n",
       "      <th>17</th>\n",
       "      <td>Economics</td>\n",
       "      <td>50100.0</td>\n",
       "      <td>98600.0</td>\n",
       "      <td>50600.0</td>\n",
       "      <td>210000.0</td>\n",
       "      <td>Business</td>\n",
       "      <td>159400.0</td>\n",
       "    </tr>\n",
       "    <tr>\n",
       "      <th>22</th>\n",
       "      <td>Finance</td>\n",
       "      <td>47900.0</td>\n",
       "      <td>88300.0</td>\n",
       "      <td>47200.0</td>\n",
       "      <td>195000.0</td>\n",
       "      <td>Business</td>\n",
       "      <td>147800.0</td>\n",
       "    </tr>\n",
       "    <tr>\n",
       "      <th>37</th>\n",
       "      <td>Math</td>\n",
       "      <td>45400.0</td>\n",
       "      <td>92400.0</td>\n",
       "      <td>45200.0</td>\n",
       "      <td>183000.0</td>\n",
       "      <td>STEM</td>\n",
       "      <td>137800.0</td>\n",
       "    </tr>\n",
       "    <tr>\n",
       "      <th>36</th>\n",
       "      <td>Marketing</td>\n",
       "      <td>40800.0</td>\n",
       "      <td>79600.0</td>\n",
       "      <td>42100.0</td>\n",
       "      <td>175000.0</td>\n",
       "      <td>Business</td>\n",
       "      <td>132900.0</td>\n",
       "    </tr>\n",
       "    <tr>\n",
       "      <th>42</th>\n",
       "      <td>Philosophy</td>\n",
       "      <td>39900.0</td>\n",
       "      <td>81200.0</td>\n",
       "      <td>35500.0</td>\n",
       "      <td>168000.0</td>\n",
       "      <td>HASS</td>\n",
       "      <td>132500.0</td>\n",
       "    </tr>\n",
       "    <tr>\n",
       "      <th>45</th>\n",
       "      <td>Political Science</td>\n",
       "      <td>40800.0</td>\n",
       "      <td>78200.0</td>\n",
       "      <td>41200.0</td>\n",
       "      <td>168000.0</td>\n",
       "      <td>HASS</td>\n",
       "      <td>126800.0</td>\n",
       "    </tr>\n",
       "  </tbody>\n",
       "</table>\n",
       "</div>"
      ],
      "text/plain": [
       "   Undergraduate Major  Starting Median Salary  Mid-Career Median Salary  \\\n",
       "17           Economics                 50100.0                   98600.0   \n",
       "22             Finance                 47900.0                   88300.0   \n",
       "37                Math                 45400.0                   92400.0   \n",
       "36           Marketing                 40800.0                   79600.0   \n",
       "42          Philosophy                 39900.0                   81200.0   \n",
       "45   Political Science                 40800.0                   78200.0   \n",
       "\n",
       "    Mid-Career 10th Percentile Salary  Mid-Career 90th Percentile Salary  \\\n",
       "17                            50600.0                           210000.0   \n",
       "22                            47200.0                           195000.0   \n",
       "37                            45200.0                           183000.0   \n",
       "36                            42100.0                           175000.0   \n",
       "42                            35500.0                           168000.0   \n",
       "45                            41200.0                           168000.0   \n",
       "\n",
       "       Group  spread_col  \n",
       "17  Business    159400.0  \n",
       "22  Business    147800.0  \n",
       "37      STEM    137800.0  \n",
       "36  Business    132900.0  \n",
       "42      HASS    132500.0  \n",
       "45      HASS    126800.0  "
      ]
     },
     "execution_count": 72,
     "metadata": {},
     "output_type": "execute_result"
    }
   ],
   "source": [
    "sal.sort_values(by=\"spread_col\", ascending=False).head(6)"
   ]
  },
  {
   "cell_type": "code",
   "execution_count": 76,
   "id": "7f96c5d0-5b70-4b37-9bec-32c813915a9c",
   "metadata": {},
   "outputs": [
    {
     "data": {
      "text/html": [
       "<div>\n",
       "<style scoped>\n",
       "    .dataframe tbody tr th:only-of-type {\n",
       "        vertical-align: middle;\n",
       "    }\n",
       "\n",
       "    .dataframe tbody tr th {\n",
       "        vertical-align: top;\n",
       "    }\n",
       "\n",
       "    .dataframe thead th {\n",
       "        text-align: right;\n",
       "    }\n",
       "</style>\n",
       "<table border=\"1\" class=\"dataframe\">\n",
       "  <thead>\n",
       "    <tr style=\"text-align: right;\">\n",
       "      <th></th>\n",
       "      <th>Undergraduate Major</th>\n",
       "      <th>Starting Median Salary</th>\n",
       "      <th>Mid-Career Median Salary</th>\n",
       "      <th>Mid-Career 10th Percentile Salary</th>\n",
       "      <th>Mid-Career 90th Percentile Salary</th>\n",
       "      <th>Group</th>\n",
       "      <th>spread_col</th>\n",
       "    </tr>\n",
       "  </thead>\n",
       "  <tbody>\n",
       "    <tr>\n",
       "      <th>17</th>\n",
       "      <td>Economics</td>\n",
       "      <td>50100.0</td>\n",
       "      <td>98600.0</td>\n",
       "      <td>50600.0</td>\n",
       "      <td>210000.0</td>\n",
       "      <td>Business</td>\n",
       "      <td>159400.0</td>\n",
       "    </tr>\n",
       "    <tr>\n",
       "      <th>22</th>\n",
       "      <td>Finance</td>\n",
       "      <td>47900.0</td>\n",
       "      <td>88300.0</td>\n",
       "      <td>47200.0</td>\n",
       "      <td>195000.0</td>\n",
       "      <td>Business</td>\n",
       "      <td>147800.0</td>\n",
       "    </tr>\n",
       "    <tr>\n",
       "      <th>8</th>\n",
       "      <td>Chemical Engineering</td>\n",
       "      <td>63200.0</td>\n",
       "      <td>107000.0</td>\n",
       "      <td>71900.0</td>\n",
       "      <td>194000.0</td>\n",
       "      <td>STEM</td>\n",
       "      <td>122100.0</td>\n",
       "    </tr>\n",
       "    <tr>\n",
       "      <th>37</th>\n",
       "      <td>Math</td>\n",
       "      <td>45400.0</td>\n",
       "      <td>92400.0</td>\n",
       "      <td>45200.0</td>\n",
       "      <td>183000.0</td>\n",
       "      <td>STEM</td>\n",
       "      <td>137800.0</td>\n",
       "    </tr>\n",
       "    <tr>\n",
       "      <th>44</th>\n",
       "      <td>Physics</td>\n",
       "      <td>50300.0</td>\n",
       "      <td>97300.0</td>\n",
       "      <td>56000.0</td>\n",
       "      <td>178000.0</td>\n",
       "      <td>STEM</td>\n",
       "      <td>122000.0</td>\n",
       "    </tr>\n",
       "    <tr>\n",
       "      <th>36</th>\n",
       "      <td>Marketing</td>\n",
       "      <td>40800.0</td>\n",
       "      <td>79600.0</td>\n",
       "      <td>42100.0</td>\n",
       "      <td>175000.0</td>\n",
       "      <td>Business</td>\n",
       "      <td>132900.0</td>\n",
       "    </tr>\n",
       "    <tr>\n",
       "      <th>30</th>\n",
       "      <td>Industrial Engineering</td>\n",
       "      <td>57700.0</td>\n",
       "      <td>94700.0</td>\n",
       "      <td>57100.0</td>\n",
       "      <td>173000.0</td>\n",
       "      <td>STEM</td>\n",
       "      <td>115900.0</td>\n",
       "    </tr>\n",
       "    <tr>\n",
       "      <th>14</th>\n",
       "      <td>Construction</td>\n",
       "      <td>53700.0</td>\n",
       "      <td>88900.0</td>\n",
       "      <td>56300.0</td>\n",
       "      <td>171000.0</td>\n",
       "      <td>Business</td>\n",
       "      <td>114700.0</td>\n",
       "    </tr>\n",
       "    <tr>\n",
       "      <th>45</th>\n",
       "      <td>Political Science</td>\n",
       "      <td>40800.0</td>\n",
       "      <td>78200.0</td>\n",
       "      <td>41200.0</td>\n",
       "      <td>168000.0</td>\n",
       "      <td>HASS</td>\n",
       "      <td>126800.0</td>\n",
       "    </tr>\n",
       "    <tr>\n",
       "      <th>42</th>\n",
       "      <td>Philosophy</td>\n",
       "      <td>39900.0</td>\n",
       "      <td>81200.0</td>\n",
       "      <td>35500.0</td>\n",
       "      <td>168000.0</td>\n",
       "      <td>HASS</td>\n",
       "      <td>132500.0</td>\n",
       "    </tr>\n",
       "  </tbody>\n",
       "</table>\n",
       "</div>"
      ],
      "text/plain": [
       "       Undergraduate Major  Starting Median Salary  Mid-Career Median Salary  \\\n",
       "17               Economics                 50100.0                   98600.0   \n",
       "22                 Finance                 47900.0                   88300.0   \n",
       "8     Chemical Engineering                 63200.0                  107000.0   \n",
       "37                    Math                 45400.0                   92400.0   \n",
       "44                 Physics                 50300.0                   97300.0   \n",
       "36               Marketing                 40800.0                   79600.0   \n",
       "30  Industrial Engineering                 57700.0                   94700.0   \n",
       "14            Construction                 53700.0                   88900.0   \n",
       "45       Political Science                 40800.0                   78200.0   \n",
       "42              Philosophy                 39900.0                   81200.0   \n",
       "\n",
       "    Mid-Career 10th Percentile Salary  Mid-Career 90th Percentile Salary  \\\n",
       "17                            50600.0                           210000.0   \n",
       "22                            47200.0                           195000.0   \n",
       "8                             71900.0                           194000.0   \n",
       "37                            45200.0                           183000.0   \n",
       "44                            56000.0                           178000.0   \n",
       "36                            42100.0                           175000.0   \n",
       "30                            57100.0                           173000.0   \n",
       "14                            56300.0                           171000.0   \n",
       "45                            41200.0                           168000.0   \n",
       "42                            35500.0                           168000.0   \n",
       "\n",
       "       Group  spread_col  \n",
       "17  Business    159400.0  \n",
       "22  Business    147800.0  \n",
       "8       STEM    122100.0  \n",
       "37      STEM    137800.0  \n",
       "44      STEM    122000.0  \n",
       "36  Business    132900.0  \n",
       "30      STEM    115900.0  \n",
       "14  Business    114700.0  \n",
       "45      HASS    126800.0  \n",
       "42      HASS    132500.0  "
      ]
     },
     "execution_count": 76,
     "metadata": {},
     "output_type": "execute_result"
    }
   ],
   "source": [
    "### Top 10 Major with the highest salaries in the 90th Percentile\n",
    "sal.sort_values(by=\"Mid-Career 90th Percentile Salary\", ascending=False).head(10)"
   ]
  },
  {
   "cell_type": "code",
   "execution_count": 78,
   "id": "6776cbe5-f1ea-4f9c-8675-521e1d24f7fd",
   "metadata": {},
   "outputs": [
    {
     "data": {
      "text/html": [
       "<div>\n",
       "<style scoped>\n",
       "    .dataframe tbody tr th:only-of-type {\n",
       "        vertical-align: middle;\n",
       "    }\n",
       "\n",
       "    .dataframe tbody tr th {\n",
       "        vertical-align: top;\n",
       "    }\n",
       "\n",
       "    .dataframe thead th {\n",
       "        text-align: right;\n",
       "    }\n",
       "</style>\n",
       "<table border=\"1\" class=\"dataframe\">\n",
       "  <thead>\n",
       "    <tr style=\"text-align: right;\">\n",
       "      <th></th>\n",
       "      <th>Undergraduate Major</th>\n",
       "      <th>Starting Median Salary</th>\n",
       "      <th>Mid-Career Median Salary</th>\n",
       "      <th>Mid-Career 10th Percentile Salary</th>\n",
       "      <th>Mid-Career 90th Percentile Salary</th>\n",
       "      <th>spread_col</th>\n",
       "    </tr>\n",
       "    <tr>\n",
       "      <th>Group</th>\n",
       "      <th></th>\n",
       "      <th></th>\n",
       "      <th></th>\n",
       "      <th></th>\n",
       "      <th></th>\n",
       "      <th></th>\n",
       "    </tr>\n",
       "  </thead>\n",
       "  <tbody>\n",
       "    <tr>\n",
       "      <th>Business</th>\n",
       "      <td>12</td>\n",
       "      <td>12</td>\n",
       "      <td>12</td>\n",
       "      <td>12</td>\n",
       "      <td>12</td>\n",
       "      <td>12</td>\n",
       "    </tr>\n",
       "    <tr>\n",
       "      <th>HASS</th>\n",
       "      <td>22</td>\n",
       "      <td>22</td>\n",
       "      <td>22</td>\n",
       "      <td>22</td>\n",
       "      <td>22</td>\n",
       "      <td>22</td>\n",
       "    </tr>\n",
       "    <tr>\n",
       "      <th>STEM</th>\n",
       "      <td>16</td>\n",
       "      <td>16</td>\n",
       "      <td>16</td>\n",
       "      <td>16</td>\n",
       "      <td>16</td>\n",
       "      <td>16</td>\n",
       "    </tr>\n",
       "  </tbody>\n",
       "</table>\n",
       "</div>"
      ],
      "text/plain": [
       "          Undergraduate Major  Starting Median Salary  \\\n",
       "Group                                                   \n",
       "Business                   12                      12   \n",
       "HASS                       22                      22   \n",
       "STEM                       16                      16   \n",
       "\n",
       "          Mid-Career Median Salary  Mid-Career 10th Percentile Salary  \\\n",
       "Group                                                                   \n",
       "Business                        12                                 12   \n",
       "HASS                            22                                 22   \n",
       "STEM                            16                                 16   \n",
       "\n",
       "          Mid-Career 90th Percentile Salary  spread_col  \n",
       "Group                                                    \n",
       "Business                                 12          12  \n",
       "HASS                                     22          22  \n",
       "STEM                                     16          16  "
      ]
     },
     "execution_count": 78,
     "metadata": {},
     "output_type": "execute_result"
    }
   ],
   "source": [
    "pd.options.display.float_format = '{:,.2f}'.format\n",
    "\n",
    "sal.groupby('Group').count()"
   ]
  },
  {
   "cell_type": "code",
   "execution_count": 79,
   "id": "448cd50c-1f40-49b3-91ae-55396e8868c8",
   "metadata": {},
   "outputs": [
    {
     "data": {
      "text/html": [
       "<div>\n",
       "<style scoped>\n",
       "    .dataframe tbody tr th:only-of-type {\n",
       "        vertical-align: middle;\n",
       "    }\n",
       "\n",
       "    .dataframe tbody tr th {\n",
       "        vertical-align: top;\n",
       "    }\n",
       "\n",
       "    .dataframe thead th {\n",
       "        text-align: right;\n",
       "    }\n",
       "</style>\n",
       "<table border=\"1\" class=\"dataframe\">\n",
       "  <thead>\n",
       "    <tr style=\"text-align: right;\">\n",
       "      <th></th>\n",
       "      <th>Starting Median Salary</th>\n",
       "      <th>Mid-Career Median Salary</th>\n",
       "      <th>Mid-Career 10th Percentile Salary</th>\n",
       "      <th>Mid-Career 90th Percentile Salary</th>\n",
       "      <th>spread_col</th>\n",
       "    </tr>\n",
       "    <tr>\n",
       "      <th>Group</th>\n",
       "      <th></th>\n",
       "      <th></th>\n",
       "      <th></th>\n",
       "      <th></th>\n",
       "      <th></th>\n",
       "    </tr>\n",
       "  </thead>\n",
       "  <tbody>\n",
       "    <tr>\n",
       "      <th>Business</th>\n",
       "      <td>44,633.33</td>\n",
       "      <td>75,083.33</td>\n",
       "      <td>43,566.67</td>\n",
       "      <td>147,525.00</td>\n",
       "      <td>103,958.33</td>\n",
       "    </tr>\n",
       "    <tr>\n",
       "      <th>HASS</th>\n",
       "      <td>37,186.36</td>\n",
       "      <td>62,968.18</td>\n",
       "      <td>34,145.45</td>\n",
       "      <td>129,363.64</td>\n",
       "      <td>95,218.18</td>\n",
       "    </tr>\n",
       "    <tr>\n",
       "      <th>STEM</th>\n",
       "      <td>53,862.50</td>\n",
       "      <td>90,812.50</td>\n",
       "      <td>56,025.00</td>\n",
       "      <td>157,625.00</td>\n",
       "      <td>101,600.00</td>\n",
       "    </tr>\n",
       "  </tbody>\n",
       "</table>\n",
       "</div>"
      ],
      "text/plain": [
       "          Starting Median Salary  Mid-Career Median Salary  \\\n",
       "Group                                                        \n",
       "Business               44,633.33                 75,083.33   \n",
       "HASS                   37,186.36                 62,968.18   \n",
       "STEM                   53,862.50                 90,812.50   \n",
       "\n",
       "          Mid-Career 10th Percentile Salary  \\\n",
       "Group                                         \n",
       "Business                          43,566.67   \n",
       "HASS                              34,145.45   \n",
       "STEM                              56,025.00   \n",
       "\n",
       "          Mid-Career 90th Percentile Salary  spread_col  \n",
       "Group                                                    \n",
       "Business                         147,525.00  103,958.33  \n",
       "HASS                             129,363.64   95,218.18  \n",
       "STEM                             157,625.00  101,600.00  "
      ]
     },
     "execution_count": 79,
     "metadata": {},
     "output_type": "execute_result"
    }
   ],
   "source": [
    "sal.groupby('Group').mean()"
   ]
  },
  {
   "cell_type": "code",
   "execution_count": null,
   "id": "9576009b-29d6-4e2d-9bc2-2d2f957924b6",
   "metadata": {},
   "outputs": [],
   "source": []
  }
 ],
 "metadata": {
  "kernelspec": {
   "display_name": "Python 3 (ipykernel)",
   "language": "python",
   "name": "python3"
  },
  "language_info": {
   "codemirror_mode": {
    "name": "ipython",
    "version": 3
   },
   "file_extension": ".py",
   "mimetype": "text/x-python",
   "name": "python",
   "nbconvert_exporter": "python",
   "pygments_lexer": "ipython3",
   "version": "3.8.13"
  }
 },
 "nbformat": 4,
 "nbformat_minor": 5
}
